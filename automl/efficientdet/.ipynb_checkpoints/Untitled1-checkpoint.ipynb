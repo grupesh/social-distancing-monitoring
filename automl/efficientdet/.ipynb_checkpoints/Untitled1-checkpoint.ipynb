{
 "cells": [
  {
   "cell_type": "code",
   "execution_count": 1,
   "metadata": {},
   "outputs": [
    {
     "name": "stdout",
     "output_type": "stream",
     "text": [
      "Use model in C:\\Users\\rohan\\Documents\\repos\\automl\\efficientdet\\efficientdet-d7\n"
     ]
    }
   ],
   "source": [
    "import os\n",
    "import sys\n",
    "import tensorflow.compat.v1 as tf\n",
    "MODEL = 'efficientdet-d7'  #@param\n",
    "\n",
    "def download(m):\n",
    "  if m not in os.listdir():\n",
    "    !wget https://storage.googleapis.com/cloud-tpu-checkpoints/efficientdet/coco/{m}.tar.gz\n",
    "    !tar zxf {m}.tar.gz\n",
    "  ckpt_path = os.path.join(os.getcwd(), m)\n",
    "  return ckpt_path\n",
    "\n",
    "# Download checkpoint.\n",
    "ckpt_path = r\"C:\\Users\\rohan\\Documents\\repos\\automl\\efficientdet\\efficientdet-d7\"#download(MODEL)\n",
    "print('Use model in {}'.format(ckpt_path))"
   ]
  },
  {
   "cell_type": "code",
   "execution_count": 3,
   "metadata": {},
   "outputs": [],
   "source": [
    "saved_model_dir = 'savedmodel'\n",
    "#!python model_inspect.py --runmode=saved_model --model_name={MODEL} \\\n",
    "#  --ckpt_path={ckpt_path} --saved_model_dir={saved_model_dir}"
   ]
  },
  {
   "cell_type": "code",
   "execution_count": 5,
   "metadata": {},
   "outputs": [
    {
     "data": {
      "text/plain": [
       "'!python model_inspect.py --runmode=saved_model_infer   --saved_model_dir={saved_model_dir}   --model_name={MODEL}  --input_image=testdata/img1.jpg    --output_image_dir={serve_image_out}   --min_score_thresh={min_score_thresh}  --max_boxes_to_draw={max_boxes_to_draw}'"
      ]
     },
     "execution_count": 5,
     "metadata": {},
     "output_type": "execute_result"
    }
   ],
   "source": [
    "serve_image_out = 'serve_image_out'\n",
    "!mkdir {serve_image_out}\n",
    "\n",
    "min_score_thresh = 0.35  #@param\n",
    "max_boxes_to_draw = 200  #@param\n",
    "line_thickness =   2#@param\n",
    "\n",
    "'''!python model_inspect.py --runmode=saved_model_infer \\\n",
    "  --saved_model_dir={saved_model_dir} \\\n",
    "  --model_name={MODEL}  --input_image=testdata/img1.jpg  \\\n",
    "  --output_image_dir={serve_image_out} \\\n",
    "  --min_score_thresh={min_score_thresh}  --max_boxes_to_draw={max_boxes_to_draw}'''"
   ]
  },
  {
   "cell_type": "code",
   "execution_count": 5,
   "metadata": {},
   "outputs": [
    {
     "data": {
      "text/plain": [
       "'/device:GPU:0'"
      ]
     },
     "execution_count": 5,
     "metadata": {},
     "output_type": "execute_result"
    }
   ],
   "source": [
    "tf.test.gpu_device_name()"
   ]
  },
  {
   "cell_type": "code",
   "execution_count": 6,
   "metadata": {},
   "outputs": [],
   "source": [
    "from model_inspect import ModelInspector\n",
    "\n",
    "tf.enable_v2_tensorshape()\n",
    "tf.disable_eager_execution()\n",
    "    \n",
    "inspector = ModelInspector(\n",
    "      model_name='efficientdet-d7',\n",
    "      logdir='/tmp/deff/',\n",
    "      tensorrt=None,\n",
    "      use_xla=False,\n",
    "      ckpt_path=ckpt_path,\n",
    "      export_ckpt=None,\n",
    "      saved_model_dir=saved_model_dir,\n",
    "      tflite_path=None,\n",
    "      batch_size=1,\n",
    "      score_thresh=min_score_thresh,\n",
    "      max_output_size=max_boxes_to_draw,\n",
    "      nms_method='hard')"
   ]
  },
  {
   "cell_type": "code",
   "execution_count": 7,
   "metadata": {
    "scrolled": true
   },
   "outputs": [
    {
     "name": "stdout",
     "output_type": "stream",
     "text": [
      "here\n",
      "WARNING:tensorflow:From C:\\Users\\rohan\\Documents\\repos\\automl\\efficientdet\\inference.py:545: load (from tensorflow.python.saved_model.loader_impl) is deprecated and will be removed in a future version.\n",
      "Instructions for updating:\n",
      "This function will only be available through the v1 compatibility library as tf.compat.v1.saved_model.loader.load or tf.compat.v1.saved_model.load. There will be a new function for importing SavedModels in Tensorflow 2.0.\n",
      "INFO:tensorflow:Restoring parameters from savedmodel\\variables\\variables\n",
      "all_files= ['testdata\\\\img1.jpg']\n",
      "writing file to serve_image_out\\0.jpg\n"
     ]
    }
   ],
   "source": [
    "bb,driver = inspector.run_model(\n",
    "      'saved_model_infer',\n",
    "      input_image='testdata/img1.jpg',\n",
    "      output_image_dir=serve_image_out,\n",
    "      input_video=None,\n",
    "      output_video=None,\n",
    "      line_thickness=line_thickness,\n",
    "      max_boxes_to_draw=max_boxes_to_draw,\n",
    "      min_score_thresh=min_score_thresh,\n",
    "      nms_method='hard',\n",
    "      bm_runs=10,\n",
    "      threads=0,\n",
    "      trace_filename=None)"
   ]
  },
  {
   "cell_type": "code",
   "execution_count": 16,
   "metadata": {},
   "outputs": [
    {
     "name": "stdout",
     "output_type": "stream",
     "text": [
      "(1, 100, 7)\n",
      "None\n",
      "dict_keys(['model_name', 'ckpt_path', 'batch_size', 'params', 'label_map', 'signitures', 'sess', 'use_xla', 'min_score_thresh', 'max_boxes_to_draw', 'line_thickness'])\n",
      "None\n"
     ]
    }
   ],
   "source": [
    "print(bb.shape)\n",
    "print(bb)\n",
    "#print(driver.__dict__.keys())\n",
    "#driver_dict = driver.__dict__\n",
    "print(driver_dict['label_map'])\n",
    "#for detection in d:\n",
    "#    print(detection.class, detection.score)"
   ]
  },
  {
   "cell_type": "code",
   "execution_count": null,
   "metadata": {},
   "outputs": [],
   "source": []
  }
 ],
 "metadata": {
  "kernelspec": {
   "display_name": "Python 3",
   "language": "python",
   "name": "python3"
  },
  "language_info": {
   "codemirror_mode": {
    "name": "ipython",
    "version": 3
   },
   "file_extension": ".py",
   "mimetype": "text/x-python",
   "name": "python",
   "nbconvert_exporter": "python",
   "pygments_lexer": "ipython3",
   "version": "3.8.5"
  }
 },
 "nbformat": 4,
 "nbformat_minor": 4
}
